{
 "cells": [
  {
   "cell_type": "code",
   "execution_count": 1,
   "id": "98ad6506",
   "metadata": {},
   "outputs": [],
   "source": [
    "import pandas as pd\n",
    "import numpy as np\n",
    "import os"
   ]
  },
  {
   "cell_type": "code",
   "execution_count": 2,
   "id": "5d62ca8e",
   "metadata": {},
   "outputs": [],
   "source": [
    "list_file = 'experiments_list.txt'\n",
    "with open(list_file, 'r') as f:\n",
    "    dirs = [f'experiments/{line.strip()}' for line in f if line.strip() and not line.strip().startswith('#')]"
   ]
  },
  {
   "cell_type": "code",
   "execution_count": 3,
   "id": "851175b3",
   "metadata": {},
   "outputs": [],
   "source": [
    "# Load logs.csv from each directory into a dictionary of DataFrames\n",
    "dfs = {}\n",
    "for d in dirs:\n",
    "    csv_path = os.path.join(d, 'logs.csv')\n",
    "    if os.path.isfile(csv_path):\n",
    "        dfs[d] = pd.read_csv(csv_path)\n",
    "    else:\n",
    "        print(f'Warning: {csv_path} not found, skipping.')\n",
    "\n",
    "# Optionally, concatenate all DataFrames into a single DataFrame\n",
    "combined_df = pd.concat(\n",
    "    dfs.values(), \n",
    "    keys=dfs.keys(), \n",
    "    names=['experiment', 'row']\n",
    ").reset_index(level='row', drop=True).reset_index().rename(columns={'index': 'experiment'})\n",
    "\n",
    "# Display the combined DataFrame\n",
    "df = combined_df.query('itr>0')[['experiment','iteration_time']].copy().groupby('experiment').mean().reset_index()"
   ]
  },
  {
   "cell_type": "code",
   "execution_count": 4,
   "id": "529a70b3",
   "metadata": {},
   "outputs": [],
   "source": [
    "parts = df.experiment.str.split('/', expand=True)\n",
    "df['Experiment'] = parts[1].copy()\n",
    "df['Method'] = parts[2].copy()\n",
    "df['Loss'] = parts[3].copy()"
   ]
  },
  {
   "cell_type": "code",
   "execution_count": 6,
   "id": "0cb7ba49",
   "metadata": {},
   "outputs": [],
   "source": [
    "df['Loss'].replace(\n",
    "    {'adjoint_matching': 'Adjoint Matching',\n",
    "     'log_variance': 'Log variance',\n",
    "     'rel_entropy': 'Relative entropy',\n",
    "     'pinn_GELU': 'PINN',\n",
    "     'rel_GELU': 'Relative loss',\n",
    "     'ritz_GELU': 'Deep ritz loss',\n",
    "     'var_GELU': 'Variational loss'},\n",
    "     inplace=True\n",
    ")\n",
    "\n",
    "df['Experiment'].replace(\n",
    "    {'OU_anisotropic_d20': 'AQ',\n",
    "     'OU_stable_d20': 'IQ',\n",
    "     'OU_hard_d20': 'RQ',\n",
    "     'double_well_d10': 'DW'},\n",
    "     inplace=True\n",
    ")"
   ]
  },
  {
   "cell_type": "code",
   "execution_count": 7,
   "id": "93232a7a",
   "metadata": {},
   "outputs": [],
   "source": [
    "pivot = df.pivot_table(\n",
    "    index=['Method', 'Loss'],\n",
    "    columns='Experiment',\n",
    "    values='iteration_time',\n",
    "    aggfunc='mean'\n",
    ")"
   ]
  },
  {
   "cell_type": "code",
   "execution_count": 8,
   "id": "9ed3caa3",
   "metadata": {},
   "outputs": [
    {
     "name": "stdout",
     "output_type": "stream",
     "text": [
      "Experiment                       RQ\n",
      "Method   Loss                      \n",
      "COMBINED Adjoint Matching  0.331509\n",
      "         Log variance      0.328471\n",
      "         Relative entropy  0.418798\n",
      "         SOCM              0.432274\n",
      "EIGF     Deep ritz loss    0.227275\n",
      "         PINN              0.661866\n",
      "         Relative loss     0.661570\n",
      "         Variational loss  0.228154\n",
      "FBSDE    FBSDE             0.443269\n",
      "IDO      Adjoint Matching  0.229828\n",
      "         Log variance      0.212383\n",
      "         Relative entropy  0.413282\n",
      "         SOCM              0.798727\n"
     ]
    }
   ],
   "source": [
    "print(pivot)"
   ]
  },
  {
   "cell_type": "code",
   "execution_count": 9,
   "id": "992e3ded",
   "metadata": {},
   "outputs": [
    {
     "name": "stdout",
     "output_type": "stream",
     "text": [
      "\\begin{table}\n",
      "\\caption{Iteration times by experiment, method and loss}\n",
      "\\label{tab:iteration_times}\n",
      "\\begin{tabular}{llr}\n",
      "\\toprule\n",
      " & Experiment & RQ \\\\\n",
      "Method & Loss &  \\\\\n",
      "\\midrule\n",
      "\\multirow[t]{4}{*}{\\textbf{COMBINED}} & \\textbf{Adjoint Matching} & 0.332 \\\\\n",
      "\\textbf{} & \\textbf{Log variance} & 0.328 \\\\\n",
      "\\textbf{} & \\textbf{Relative entropy} & 0.419 \\\\\n",
      "\\textbf{} & \\textbf{SOCM} & 0.432 \\\\\n",
      "\\cline{1-3}\n",
      "\\multirow[t]{4}{*}{\\textbf{EIGF}} & \\textbf{Deep ritz loss} & 0.227 \\\\\n",
      "\\textbf{} & \\textbf{PINN} & 0.662 \\\\\n",
      "\\textbf{} & \\textbf{Relative loss} & 0.662 \\\\\n",
      "\\textbf{} & \\textbf{Variational loss} & 0.228 \\\\\n",
      "\\cline{1-3}\n",
      "\\textbf{FBSDE} & \\textbf{FBSDE} & 0.443 \\\\\n",
      "\\cline{1-3}\n",
      "\\multirow[t]{4}{*}{\\textbf{IDO}} & \\textbf{Adjoint Matching} & 0.230 \\\\\n",
      "\\textbf{} & \\textbf{Log variance} & 0.212 \\\\\n",
      "\\textbf{} & \\textbf{Relative entropy} & 0.413 \\\\\n",
      "\\textbf{} & \\textbf{SOCM} & 0.799 \\\\\n",
      "\\cline{1-3}\n",
      "\\bottomrule\n",
      "\\end{tabular}\n",
      "\\end{table}\n",
      "\n"
     ]
    }
   ],
   "source": [
    "latex_str = pivot.to_latex(\n",
    "    caption='Iteration times by experiment, method and loss',\n",
    "    label='tab:iteration_times',\n",
    "    escape=True,            # <-- ensure special chars (_ & %) get backslash-escaped\n",
    "    multicolumn=True,\n",
    "    multicolumn_format='c',\n",
    "    float_format=\"%.3f\",\n",
    "    bold_rows=True\n",
    ")\n",
    "print(latex_str)"
   ]
  },
  {
   "cell_type": "code",
   "execution_count": null,
   "id": "3f9e9753",
   "metadata": {},
   "outputs": [],
   "source": []
  }
 ],
 "metadata": {
  "kernelspec": {
   "display_name": "efs-env",
   "language": "python",
   "name": "python3"
  },
  "language_info": {
   "codemirror_mode": {
    "name": "ipython",
    "version": 3
   },
   "file_extension": ".py",
   "mimetype": "text/x-python",
   "name": "python",
   "nbconvert_exporter": "python",
   "pygments_lexer": "ipython3",
   "version": "3.13.1"
  }
 },
 "nbformat": 4,
 "nbformat_minor": 5
}
