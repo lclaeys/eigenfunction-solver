{
 "cells": [
  {
   "cell_type": "code",
   "execution_count": 2,
   "id": "98ad6506",
   "metadata": {},
   "outputs": [],
   "source": [
    "import pandas as pd\n",
    "import numpy as np\n",
    "import os"
   ]
  },
  {
   "cell_type": "code",
   "execution_count": 9,
   "id": "5d62ca8e",
   "metadata": {},
   "outputs": [],
   "source": [
    "list_file = 'experiments_list.txt'\n",
    "with open(list_file, 'r') as f:\n",
    "    dirs = [f'experiments/{line.strip()}' for line in f if line.strip() and not line.strip().startswith('#')]"
   ]
  },
  {
   "cell_type": "code",
   "execution_count": 25,
   "id": "851175b3",
   "metadata": {},
   "outputs": [],
   "source": [
    "# Load logs.csv from each directory into a dictionary of DataFrames\n",
    "dfs = {}\n",
    "for d in dirs:\n",
    "    csv_path = os.path.join(d, 'logs.csv')\n",
    "    if os.path.isfile(csv_path):\n",
    "        dfs[d] = pd.read_csv(csv_path)\n",
    "    else:\n",
    "        print(f'Warning: {csv_path} not found, skipping.')\n",
    "\n",
    "# Optionally, concatenate all DataFrames into a single DataFrame\n",
    "combined_df = pd.concat(\n",
    "    dfs.values(), \n",
    "    keys=dfs.keys(), \n",
    "    names=['experiment', 'row']\n",
    ").reset_index(level='row', drop=True).reset_index().rename(columns={'index': 'experiment'})\n",
    "\n",
    "# Display the combined DataFrame\n",
    "df = combined_df.query('itr>0')[['experiment','iteration_time']].copy().groupby('experiment').mean().reset_index()"
   ]
  },
  {
   "cell_type": "code",
   "execution_count": 26,
   "id": "2bc4a4e6",
   "metadata": {},
   "outputs": [
    {
     "data": {
      "application/vnd.microsoft.datawrangler.viewer.v0+json": {
       "columns": [
        {
         "name": "index",
         "rawType": "int64",
         "type": "integer"
        },
        {
         "name": "experiment",
         "rawType": "object",
         "type": "string"
        },
        {
         "name": "iteration_time",
         "rawType": "float64",
         "type": "float"
        }
       ],
       "conversionMethod": "pd.DataFrame",
       "ref": "09eb0ebc-eca3-4d1a-83b6-b87802be1433",
       "rows": [
        [
         "0",
         "experiments/OU_anisotropic_d20/COMBINED/SOCM",
         "0.7387912797569781"
        ],
        [
         "1",
         "experiments/OU_anisotropic_d20/COMBINED/SOCM_adjoint",
         "0.569856929438881"
        ],
        [
         "2",
         "experiments/OU_anisotropic_d20/COMBINED/log_variance",
         "0.5689058912620975"
        ],
        [
         "3",
         "experiments/OU_anisotropic_d20/COMBINED/rel_entropy",
         "0.6135098327205835"
        ],
        [
         "4",
         "experiments/OU_anisotropic_d20/EIGF/pinn_GAUSS",
         "0.5856611194449461"
        ],
        [
         "5",
         "experiments/OU_anisotropic_d20/EIGF/rel_GAUSS",
         "0.7864097544308449"
        ],
        [
         "6",
         "experiments/OU_anisotropic_d20/EIGF/ritz_GAUSS",
         "0.36340577668033636"
        ],
        [
         "7",
         "experiments/OU_anisotropic_d20/EIGF/var_GAUSS",
         "0.363304659604131"
        ],
        [
         "8",
         "experiments/OU_anisotropic_d20/IDO/SOCM",
         "1.1520434899025775"
        ],
        [
         "9",
         "experiments/OU_anisotropic_d20/IDO/SOCM_adjoint",
         "0.24813809816768675"
        ],
        [
         "10",
         "experiments/OU_anisotropic_d20/IDO/log_variance",
         "0.23288786706399256"
        ],
        [
         "11",
         "experiments/OU_anisotropic_d20/IDO/rel_entropy",
         "8.461295882232273"
        ],
        [
         "12",
         "experiments/OU_hard_d20/COMBINED/SOCM",
         "1.1966297248646318"
        ],
        [
         "13",
         "experiments/OU_hard_d20/COMBINED/SOCM_adjoint",
         "0.8084420404625178"
        ],
        [
         "14",
         "experiments/OU_hard_d20/COMBINED/log_variance",
         "0.8059385047090217"
        ],
        [
         "15",
         "experiments/OU_hard_d20/COMBINED/rel_entropy",
         "0.9200856218737864"
        ],
        [
         "16",
         "experiments/OU_hard_d20/EIGF/pinn_GAUSS",
         "0.4056765358349558"
        ],
        [
         "17",
         "experiments/OU_hard_d20/EIGF/rel_GAUSS",
         "0.404723083728246"
        ],
        [
         "18",
         "experiments/OU_hard_d20/EIGF/ritz_GAUSS",
         "0.19478446793048934"
        ],
        [
         "19",
         "experiments/OU_hard_d20/EIGF/var_GAUSS",
         "0.19818786932619398"
        ],
        [
         "20",
         "experiments/OU_hard_d20/IDO/SOCM",
         "4.789851765883283"
        ],
        [
         "21",
         "experiments/OU_hard_d20/IDO/SOCM_adjoint",
         "2.613046472961822"
        ],
        [
         "22",
         "experiments/OU_hard_d20/IDO/log_variance",
         "2.638714861944411"
        ],
        [
         "23",
         "experiments/OU_hard_d20/IDO/rel_entropy",
         "7.497303498172473"
        ],
        [
         "24",
         "experiments/OU_stable_d20/COMBINED/SOCM",
         "0.6039722212384431"
        ],
        [
         "25",
         "experiments/OU_stable_d20/COMBINED/SOCM_adjoint",
         "0.46626756696140065"
        ],
        [
         "26",
         "experiments/OU_stable_d20/COMBINED/log_variance",
         "0.45853721286835747"
        ],
        [
         "27",
         "experiments/OU_stable_d20/COMBINED/rel_entropy",
         "5.874427459969166"
        ],
        [
         "28",
         "experiments/OU_stable_d20/EIGF/pinn_GAUSS",
         "0.40324546108867293"
        ],
        [
         "29",
         "experiments/OU_stable_d20/EIGF/rel_GAUSS",
         "0.4038758118947347"
        ],
        [
         "30",
         "experiments/OU_stable_d20/EIGF/ritz_GAUSS",
         "0.19430909220138584"
        ],
        [
         "31",
         "experiments/OU_stable_d20/EIGF/var_GAUSS",
         "0.19815302808183174"
        ],
        [
         "32",
         "experiments/OU_stable_d20/IDO/SOCM",
         "0.8072433055237924"
        ],
        [
         "33",
         "experiments/OU_stable_d20/IDO/SOCM_adjoint",
         "0.22376088588198967"
        ],
        [
         "34",
         "experiments/OU_stable_d20/IDO/log_variance",
         "0.20738362757225653"
        ],
        [
         "35",
         "experiments/OU_stable_d20/IDO/rel_entropy",
         "0.3989085771950971"
        ],
        [
         "36",
         "experiments/double_well_d10/COMBINED/SOCM",
         "1.1102529917076909"
        ],
        [
         "37",
         "experiments/double_well_d10/COMBINED/SOCM_adjoint",
         "0.7392446241987513"
        ],
        [
         "38",
         "experiments/double_well_d10/COMBINED/log_variance",
         "0.7446884795691403"
        ],
        [
         "39",
         "experiments/double_well_d10/COMBINED/rel_entropy",
         "0.8157733174030136"
        ],
        [
         "40",
         "experiments/double_well_d10/EIGF/pinn_GAUSS",
         "1.8064081662781886"
        ],
        [
         "41",
         "experiments/double_well_d10/EIGF/rel_GAUSS",
         "1.810956718469392"
        ],
        [
         "42",
         "experiments/double_well_d10/EIGF/ritz_GAUSS",
         "1.287126691806607"
        ],
        [
         "43",
         "experiments/double_well_d10/EIGF/var_GAUSS",
         "1.2764958197300504"
        ],
        [
         "44",
         "experiments/double_well_d10/IDO/SOCM",
         "1.3653128200052531"
        ],
        [
         "45",
         "experiments/double_well_d10/IDO/SOCM_adjoint",
         "0.23286953389868414"
        ],
        [
         "46",
         "experiments/double_well_d10/IDO/log_variance",
         "0.21190330049421666"
        ],
        [
         "47",
         "experiments/double_well_d10/IDO/rel_entropy",
         "0.45464206463404383"
        ]
       ],
       "shape": {
        "columns": 2,
        "rows": 48
       }
      },
      "text/html": [
       "<div>\n",
       "<style scoped>\n",
       "    .dataframe tbody tr th:only-of-type {\n",
       "        vertical-align: middle;\n",
       "    }\n",
       "\n",
       "    .dataframe tbody tr th {\n",
       "        vertical-align: top;\n",
       "    }\n",
       "\n",
       "    .dataframe thead th {\n",
       "        text-align: right;\n",
       "    }\n",
       "</style>\n",
       "<table border=\"1\" class=\"dataframe\">\n",
       "  <thead>\n",
       "    <tr style=\"text-align: right;\">\n",
       "      <th></th>\n",
       "      <th>experiment</th>\n",
       "      <th>iteration_time</th>\n",
       "    </tr>\n",
       "  </thead>\n",
       "  <tbody>\n",
       "    <tr>\n",
       "      <th>0</th>\n",
       "      <td>experiments/OU_anisotropic_d20/COMBINED/SOCM</td>\n",
       "      <td>0.738791</td>\n",
       "    </tr>\n",
       "    <tr>\n",
       "      <th>1</th>\n",
       "      <td>experiments/OU_anisotropic_d20/COMBINED/SOCM_a...</td>\n",
       "      <td>0.569857</td>\n",
       "    </tr>\n",
       "    <tr>\n",
       "      <th>2</th>\n",
       "      <td>experiments/OU_anisotropic_d20/COMBINED/log_va...</td>\n",
       "      <td>0.568906</td>\n",
       "    </tr>\n",
       "    <tr>\n",
       "      <th>3</th>\n",
       "      <td>experiments/OU_anisotropic_d20/COMBINED/rel_en...</td>\n",
       "      <td>0.613510</td>\n",
       "    </tr>\n",
       "    <tr>\n",
       "      <th>4</th>\n",
       "      <td>experiments/OU_anisotropic_d20/EIGF/pinn_GAUSS</td>\n",
       "      <td>0.585661</td>\n",
       "    </tr>\n",
       "    <tr>\n",
       "      <th>5</th>\n",
       "      <td>experiments/OU_anisotropic_d20/EIGF/rel_GAUSS</td>\n",
       "      <td>0.786410</td>\n",
       "    </tr>\n",
       "    <tr>\n",
       "      <th>6</th>\n",
       "      <td>experiments/OU_anisotropic_d20/EIGF/ritz_GAUSS</td>\n",
       "      <td>0.363406</td>\n",
       "    </tr>\n",
       "    <tr>\n",
       "      <th>7</th>\n",
       "      <td>experiments/OU_anisotropic_d20/EIGF/var_GAUSS</td>\n",
       "      <td>0.363305</td>\n",
       "    </tr>\n",
       "    <tr>\n",
       "      <th>8</th>\n",
       "      <td>experiments/OU_anisotropic_d20/IDO/SOCM</td>\n",
       "      <td>1.152043</td>\n",
       "    </tr>\n",
       "    <tr>\n",
       "      <th>9</th>\n",
       "      <td>experiments/OU_anisotropic_d20/IDO/SOCM_adjoint</td>\n",
       "      <td>0.248138</td>\n",
       "    </tr>\n",
       "    <tr>\n",
       "      <th>10</th>\n",
       "      <td>experiments/OU_anisotropic_d20/IDO/log_variance</td>\n",
       "      <td>0.232888</td>\n",
       "    </tr>\n",
       "    <tr>\n",
       "      <th>11</th>\n",
       "      <td>experiments/OU_anisotropic_d20/IDO/rel_entropy</td>\n",
       "      <td>8.461296</td>\n",
       "    </tr>\n",
       "    <tr>\n",
       "      <th>12</th>\n",
       "      <td>experiments/OU_hard_d20/COMBINED/SOCM</td>\n",
       "      <td>1.196630</td>\n",
       "    </tr>\n",
       "    <tr>\n",
       "      <th>13</th>\n",
       "      <td>experiments/OU_hard_d20/COMBINED/SOCM_adjoint</td>\n",
       "      <td>0.808442</td>\n",
       "    </tr>\n",
       "    <tr>\n",
       "      <th>14</th>\n",
       "      <td>experiments/OU_hard_d20/COMBINED/log_variance</td>\n",
       "      <td>0.805939</td>\n",
       "    </tr>\n",
       "    <tr>\n",
       "      <th>15</th>\n",
       "      <td>experiments/OU_hard_d20/COMBINED/rel_entropy</td>\n",
       "      <td>0.920086</td>\n",
       "    </tr>\n",
       "    <tr>\n",
       "      <th>16</th>\n",
       "      <td>experiments/OU_hard_d20/EIGF/pinn_GAUSS</td>\n",
       "      <td>0.405677</td>\n",
       "    </tr>\n",
       "    <tr>\n",
       "      <th>17</th>\n",
       "      <td>experiments/OU_hard_d20/EIGF/rel_GAUSS</td>\n",
       "      <td>0.404723</td>\n",
       "    </tr>\n",
       "    <tr>\n",
       "      <th>18</th>\n",
       "      <td>experiments/OU_hard_d20/EIGF/ritz_GAUSS</td>\n",
       "      <td>0.194784</td>\n",
       "    </tr>\n",
       "    <tr>\n",
       "      <th>19</th>\n",
       "      <td>experiments/OU_hard_d20/EIGF/var_GAUSS</td>\n",
       "      <td>0.198188</td>\n",
       "    </tr>\n",
       "    <tr>\n",
       "      <th>20</th>\n",
       "      <td>experiments/OU_hard_d20/IDO/SOCM</td>\n",
       "      <td>4.789852</td>\n",
       "    </tr>\n",
       "    <tr>\n",
       "      <th>21</th>\n",
       "      <td>experiments/OU_hard_d20/IDO/SOCM_adjoint</td>\n",
       "      <td>2.613046</td>\n",
       "    </tr>\n",
       "    <tr>\n",
       "      <th>22</th>\n",
       "      <td>experiments/OU_hard_d20/IDO/log_variance</td>\n",
       "      <td>2.638715</td>\n",
       "    </tr>\n",
       "    <tr>\n",
       "      <th>23</th>\n",
       "      <td>experiments/OU_hard_d20/IDO/rel_entropy</td>\n",
       "      <td>7.497303</td>\n",
       "    </tr>\n",
       "    <tr>\n",
       "      <th>24</th>\n",
       "      <td>experiments/OU_stable_d20/COMBINED/SOCM</td>\n",
       "      <td>0.603972</td>\n",
       "    </tr>\n",
       "    <tr>\n",
       "      <th>25</th>\n",
       "      <td>experiments/OU_stable_d20/COMBINED/SOCM_adjoint</td>\n",
       "      <td>0.466268</td>\n",
       "    </tr>\n",
       "    <tr>\n",
       "      <th>26</th>\n",
       "      <td>experiments/OU_stable_d20/COMBINED/log_variance</td>\n",
       "      <td>0.458537</td>\n",
       "    </tr>\n",
       "    <tr>\n",
       "      <th>27</th>\n",
       "      <td>experiments/OU_stable_d20/COMBINED/rel_entropy</td>\n",
       "      <td>5.874427</td>\n",
       "    </tr>\n",
       "    <tr>\n",
       "      <th>28</th>\n",
       "      <td>experiments/OU_stable_d20/EIGF/pinn_GAUSS</td>\n",
       "      <td>0.403245</td>\n",
       "    </tr>\n",
       "    <tr>\n",
       "      <th>29</th>\n",
       "      <td>experiments/OU_stable_d20/EIGF/rel_GAUSS</td>\n",
       "      <td>0.403876</td>\n",
       "    </tr>\n",
       "    <tr>\n",
       "      <th>30</th>\n",
       "      <td>experiments/OU_stable_d20/EIGF/ritz_GAUSS</td>\n",
       "      <td>0.194309</td>\n",
       "    </tr>\n",
       "    <tr>\n",
       "      <th>31</th>\n",
       "      <td>experiments/OU_stable_d20/EIGF/var_GAUSS</td>\n",
       "      <td>0.198153</td>\n",
       "    </tr>\n",
       "    <tr>\n",
       "      <th>32</th>\n",
       "      <td>experiments/OU_stable_d20/IDO/SOCM</td>\n",
       "      <td>0.807243</td>\n",
       "    </tr>\n",
       "    <tr>\n",
       "      <th>33</th>\n",
       "      <td>experiments/OU_stable_d20/IDO/SOCM_adjoint</td>\n",
       "      <td>0.223761</td>\n",
       "    </tr>\n",
       "    <tr>\n",
       "      <th>34</th>\n",
       "      <td>experiments/OU_stable_d20/IDO/log_variance</td>\n",
       "      <td>0.207384</td>\n",
       "    </tr>\n",
       "    <tr>\n",
       "      <th>35</th>\n",
       "      <td>experiments/OU_stable_d20/IDO/rel_entropy</td>\n",
       "      <td>0.398909</td>\n",
       "    </tr>\n",
       "    <tr>\n",
       "      <th>36</th>\n",
       "      <td>experiments/double_well_d10/COMBINED/SOCM</td>\n",
       "      <td>1.110253</td>\n",
       "    </tr>\n",
       "    <tr>\n",
       "      <th>37</th>\n",
       "      <td>experiments/double_well_d10/COMBINED/SOCM_adjoint</td>\n",
       "      <td>0.739245</td>\n",
       "    </tr>\n",
       "    <tr>\n",
       "      <th>38</th>\n",
       "      <td>experiments/double_well_d10/COMBINED/log_variance</td>\n",
       "      <td>0.744688</td>\n",
       "    </tr>\n",
       "    <tr>\n",
       "      <th>39</th>\n",
       "      <td>experiments/double_well_d10/COMBINED/rel_entropy</td>\n",
       "      <td>0.815773</td>\n",
       "    </tr>\n",
       "    <tr>\n",
       "      <th>40</th>\n",
       "      <td>experiments/double_well_d10/EIGF/pinn_GAUSS</td>\n",
       "      <td>1.806408</td>\n",
       "    </tr>\n",
       "    <tr>\n",
       "      <th>41</th>\n",
       "      <td>experiments/double_well_d10/EIGF/rel_GAUSS</td>\n",
       "      <td>1.810957</td>\n",
       "    </tr>\n",
       "    <tr>\n",
       "      <th>42</th>\n",
       "      <td>experiments/double_well_d10/EIGF/ritz_GAUSS</td>\n",
       "      <td>1.287127</td>\n",
       "    </tr>\n",
       "    <tr>\n",
       "      <th>43</th>\n",
       "      <td>experiments/double_well_d10/EIGF/var_GAUSS</td>\n",
       "      <td>1.276496</td>\n",
       "    </tr>\n",
       "    <tr>\n",
       "      <th>44</th>\n",
       "      <td>experiments/double_well_d10/IDO/SOCM</td>\n",
       "      <td>1.365313</td>\n",
       "    </tr>\n",
       "    <tr>\n",
       "      <th>45</th>\n",
       "      <td>experiments/double_well_d10/IDO/SOCM_adjoint</td>\n",
       "      <td>0.232870</td>\n",
       "    </tr>\n",
       "    <tr>\n",
       "      <th>46</th>\n",
       "      <td>experiments/double_well_d10/IDO/log_variance</td>\n",
       "      <td>0.211903</td>\n",
       "    </tr>\n",
       "    <tr>\n",
       "      <th>47</th>\n",
       "      <td>experiments/double_well_d10/IDO/rel_entropy</td>\n",
       "      <td>0.454642</td>\n",
       "    </tr>\n",
       "  </tbody>\n",
       "</table>\n",
       "</div>"
      ],
      "text/plain": [
       "                                           experiment  iteration_time\n",
       "0        experiments/OU_anisotropic_d20/COMBINED/SOCM        0.738791\n",
       "1   experiments/OU_anisotropic_d20/COMBINED/SOCM_a...        0.569857\n",
       "2   experiments/OU_anisotropic_d20/COMBINED/log_va...        0.568906\n",
       "3   experiments/OU_anisotropic_d20/COMBINED/rel_en...        0.613510\n",
       "4      experiments/OU_anisotropic_d20/EIGF/pinn_GAUSS        0.585661\n",
       "5       experiments/OU_anisotropic_d20/EIGF/rel_GAUSS        0.786410\n",
       "6      experiments/OU_anisotropic_d20/EIGF/ritz_GAUSS        0.363406\n",
       "7       experiments/OU_anisotropic_d20/EIGF/var_GAUSS        0.363305\n",
       "8             experiments/OU_anisotropic_d20/IDO/SOCM        1.152043\n",
       "9     experiments/OU_anisotropic_d20/IDO/SOCM_adjoint        0.248138\n",
       "10    experiments/OU_anisotropic_d20/IDO/log_variance        0.232888\n",
       "11     experiments/OU_anisotropic_d20/IDO/rel_entropy        8.461296\n",
       "12              experiments/OU_hard_d20/COMBINED/SOCM        1.196630\n",
       "13      experiments/OU_hard_d20/COMBINED/SOCM_adjoint        0.808442\n",
       "14      experiments/OU_hard_d20/COMBINED/log_variance        0.805939\n",
       "15       experiments/OU_hard_d20/COMBINED/rel_entropy        0.920086\n",
       "16            experiments/OU_hard_d20/EIGF/pinn_GAUSS        0.405677\n",
       "17             experiments/OU_hard_d20/EIGF/rel_GAUSS        0.404723\n",
       "18            experiments/OU_hard_d20/EIGF/ritz_GAUSS        0.194784\n",
       "19             experiments/OU_hard_d20/EIGF/var_GAUSS        0.198188\n",
       "20                   experiments/OU_hard_d20/IDO/SOCM        4.789852\n",
       "21           experiments/OU_hard_d20/IDO/SOCM_adjoint        2.613046\n",
       "22           experiments/OU_hard_d20/IDO/log_variance        2.638715\n",
       "23            experiments/OU_hard_d20/IDO/rel_entropy        7.497303\n",
       "24            experiments/OU_stable_d20/COMBINED/SOCM        0.603972\n",
       "25    experiments/OU_stable_d20/COMBINED/SOCM_adjoint        0.466268\n",
       "26    experiments/OU_stable_d20/COMBINED/log_variance        0.458537\n",
       "27     experiments/OU_stable_d20/COMBINED/rel_entropy        5.874427\n",
       "28          experiments/OU_stable_d20/EIGF/pinn_GAUSS        0.403245\n",
       "29           experiments/OU_stable_d20/EIGF/rel_GAUSS        0.403876\n",
       "30          experiments/OU_stable_d20/EIGF/ritz_GAUSS        0.194309\n",
       "31           experiments/OU_stable_d20/EIGF/var_GAUSS        0.198153\n",
       "32                 experiments/OU_stable_d20/IDO/SOCM        0.807243\n",
       "33         experiments/OU_stable_d20/IDO/SOCM_adjoint        0.223761\n",
       "34         experiments/OU_stable_d20/IDO/log_variance        0.207384\n",
       "35          experiments/OU_stable_d20/IDO/rel_entropy        0.398909\n",
       "36          experiments/double_well_d10/COMBINED/SOCM        1.110253\n",
       "37  experiments/double_well_d10/COMBINED/SOCM_adjoint        0.739245\n",
       "38  experiments/double_well_d10/COMBINED/log_variance        0.744688\n",
       "39   experiments/double_well_d10/COMBINED/rel_entropy        0.815773\n",
       "40        experiments/double_well_d10/EIGF/pinn_GAUSS        1.806408\n",
       "41         experiments/double_well_d10/EIGF/rel_GAUSS        1.810957\n",
       "42        experiments/double_well_d10/EIGF/ritz_GAUSS        1.287127\n",
       "43         experiments/double_well_d10/EIGF/var_GAUSS        1.276496\n",
       "44               experiments/double_well_d10/IDO/SOCM        1.365313\n",
       "45       experiments/double_well_d10/IDO/SOCM_adjoint        0.232870\n",
       "46       experiments/double_well_d10/IDO/log_variance        0.211903\n",
       "47        experiments/double_well_d10/IDO/rel_entropy        0.454642"
      ]
     },
     "execution_count": 26,
     "metadata": {},
     "output_type": "execute_result"
    }
   ],
   "source": [
    "df"
   ]
  },
  {
   "cell_type": "code",
   "execution_count": null,
   "id": "529a70b3",
   "metadata": {},
   "outputs": [],
   "source": [
    "parts = df.experiment.str.split('/', expand=True)\n",
    "df['experiment_name'] = parts[1]\n",
    "df['method_name'] = parts[2]\n",
    "df['loss'] = parts[3]"
   ]
  },
  {
   "cell_type": "code",
   "execution_count": 45,
   "id": "93232a7a",
   "metadata": {},
   "outputs": [],
   "source": [
    "pivot = df.pivot_table(\n",
    "    index=['method_name', 'loss'],\n",
    "    columns='experiment_name',\n",
    "    values='iteration_time',\n",
    "    aggfunc='mean'       # or 'first', or any other aggregator\n",
    ")"
   ]
  },
  {
   "cell_type": "code",
   "execution_count": null,
   "id": "54e565c4",
   "metadata": {},
   "outputs": [],
   "source": [
    "pivot['loss'].rename(\n",
    "    {'SOCM_adjoint': 'SOCM (adjoint)',\n",
    "     'log_variance': 'Log variance',\n",
    "     'rel_entropy': 'Relative entropy',\n",
    "     'pinn_GAUSS': 'PINN',\n",
    "     'rel_GAUSS': 'Relative loss',\n",
    "     'ritz_GAUSS': 'Deep ritz loss',\n",
    "     'var_GAUSS': 'Variational loss'},\n",
    "     inplace=True\n",
    ")\n",
    "\n",
    "pivot['experiment_name'].rename(\n",
    "    {'OU_anisotropic_d20': 'Stable OU (ANISO)',\n",
    "     'OU_stable_d20': 'Stable OU (ISO)',\n",
    "     'OU_hard_d20': 'Unstable OU',\n",
    "     'double_well_d10': 'Double Well'},\n",
    "     inplace=True\n",
    ")"
   ]
  },
  {
   "cell_type": "code",
   "execution_count": 51,
   "id": "9ed3caa3",
   "metadata": {},
   "outputs": [
    {
     "name": "stdout",
     "output_type": "stream",
     "text": [
      "\\begin{table}\n",
      "\\caption{Iteration times by experiment, method and loss}\n",
      "\\label{tab:iteration_times}\n",
      "\\begin{tabular}{llrrrr}\n",
      "\\toprule\n",
      " & experiment_name & OU\\_anisotropic\\_d20 & OU\\_hard\\_d20 & OU\\_stable\\_d20 & double\\_well\\_d10 \\\\\n",
      "method_name & loss &  &  &  &  \\\\\n",
      "\\midrule\n",
      "\\multirow[t]{4}{*}{\\textbf{COMBINED}} & \\textbf{SOCM} & 0.739 & 1.197 & 0.604 & 1.110 \\\\\n",
      "\\textbf{} & \\textbf{SOCM\\_adjoint} & 0.570 & 0.808 & 0.466 & 0.739 \\\\\n",
      "\\textbf{} & \\textbf{log\\_variance} & 0.569 & 0.806 & 0.459 & 0.745 \\\\\n",
      "\\textbf{} & \\textbf{rel\\_entropy} & 0.614 & 0.920 & 5.874 & 0.816 \\\\\n",
      "\\cline{1-6}\n",
      "\\multirow[t]{4}{*}{\\textbf{EIGF}} & \\textbf{pinn\\_GAUSS} & 0.586 & 0.406 & 0.403 & 1.806 \\\\\n",
      "\\textbf{} & \\textbf{rel\\_GAUSS} & 0.786 & 0.405 & 0.404 & 1.811 \\\\\n",
      "\\textbf{} & \\textbf{ritz\\_GAUSS} & 0.363 & 0.195 & 0.194 & 1.287 \\\\\n",
      "\\textbf{} & \\textbf{var\\_GAUSS} & 0.363 & 0.198 & 0.198 & 1.276 \\\\\n",
      "\\cline{1-6}\n",
      "\\multirow[t]{4}{*}{\\textbf{IDO}} & \\textbf{SOCM} & 1.152 & 4.790 & 0.807 & 1.365 \\\\\n",
      "\\textbf{} & \\textbf{SOCM\\_adjoint} & 0.248 & 2.613 & 0.224 & 0.233 \\\\\n",
      "\\textbf{} & \\textbf{log\\_variance} & 0.233 & 2.639 & 0.207 & 0.212 \\\\\n",
      "\\textbf{} & \\textbf{rel\\_entropy} & 8.461 & 7.497 & 0.399 & 0.455 \\\\\n",
      "\\cline{1-6}\n",
      "\\bottomrule\n",
      "\\end{tabular}\n",
      "\\end{table}\n",
      "\n"
     ]
    }
   ],
   "source": [
    "latex_str = pivot.to_latex(\n",
    "    caption='Iteration times by experiment, method and loss',\n",
    "    label='tab:iteration_times',\n",
    "    escape=True,            # <-- ensure special chars (_ & %) get backslash-escaped\n",
    "    multicolumn=True,\n",
    "    multicolumn_format='c',\n",
    "    float_format=\"%.3f\",\n",
    "    bold_rows=True\n",
    ")\n",
    "print(latex_str)"
   ]
  },
  {
   "cell_type": "code",
   "execution_count": 52,
   "id": "f5319df3",
   "metadata": {},
   "outputs": [
    {
     "name": "stdout",
     "output_type": "stream",
     "text": [
      "\\begin{table}\n",
      "\\caption{Iteration times by experiment, method and loss}\n",
      "\\label{tab:iteration_times}\n",
      "\\begin{tabular}{llrrrr}\n",
      "\\toprule\n",
      " & experiment_name & OU\\_anisotropic\\_d20 & OU\\_hard\\_d20 & OU\\_stable\\_d20 & double\\_well\\_d10 \\\\\n",
      "method_name & loss &  &  &  &  \\\\\n",
      "\\midrule\n",
      "\\multirow[t]{4}{*}{\\textbf{COMBINED}} & \\textbf{SOCM} & 0.739 & 1.197 & 0.604 & 1.110 \\\\\n",
      "\\textbf{} & \\textbf{SOCM\\_adjoint} & 0.570 & 0.808 & 0.466 & 0.739 \\\\\n",
      "\\textbf{} & \\textbf{log\\_variance} & 0.569 & 0.806 & 0.459 & 0.745 \\\\\n",
      "\\textbf{} & \\textbf{rel\\_entropy} & 0.614 & 0.920 & 5.874 & 0.816 \\\\\n",
      "\\cline{1-6}\n",
      "\\multirow[t]{4}{*}{\\textbf{EIGF}} & \\textbf{pinn\\_GAUSS} & 0.586 & 0.406 & 0.403 & 1.806 \\\\\n",
      "\\textbf{} & \\textbf{rel\\_GAUSS} & 0.786 & 0.405 & 0.404 & 1.811 \\\\\n",
      "\\textbf{} & \\textbf{ritz\\_GAUSS} & 0.363 & 0.195 & 0.194 & 1.287 \\\\\n",
      "\\textbf{} & \\textbf{var\\_GAUSS} & 0.363 & 0.198 & 0.198 & 1.276 \\\\\n",
      "\\cline{1-6}\n",
      "\\multirow[t]{4}{*}{\\textbf{IDO}} & \\textbf{SOCM} & 1.152 & 4.790 & 0.807 & 1.365 \\\\\n",
      "\\textbf{} & \\textbf{SOCM\\_adjoint} & 0.248 & 2.613 & 0.224 & 0.233 \\\\\n",
      "\\textbf{} & \\textbf{log\\_variance} & 0.233 & 2.639 & 0.207 & 0.212 \\\\\n",
      "\\textbf{} & \\textbf{rel\\_entropy} & 8.461 & 7.497 & 0.399 & 0.455 \\\\\n",
      "\\cline{1-6}\n",
      "\\bottomrule\n",
      "\\end{tabular}\n",
      "\\end{table}\n",
      "\n"
     ]
    }
   ],
   "source": [
    "print(latex_str)"
   ]
  },
  {
   "cell_type": "code",
   "execution_count": null,
   "id": "f0652d9d",
   "metadata": {},
   "outputs": [],
   "source": []
  }
 ],
 "metadata": {
  "kernelspec": {
   "display_name": "efs-env",
   "language": "python",
   "name": "python3"
  },
  "language_info": {
   "codemirror_mode": {
    "name": "ipython",
    "version": 3
   },
   "file_extension": ".py",
   "mimetype": "text/x-python",
   "name": "python",
   "nbconvert_exporter": "python",
   "pygments_lexer": "ipython3",
   "version": "3.13.1"
  }
 },
 "nbformat": 4,
 "nbformat_minor": 5
}
