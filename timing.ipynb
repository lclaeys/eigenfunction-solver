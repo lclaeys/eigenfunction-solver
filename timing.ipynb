{
 "cells": [
  {
   "cell_type": "code",
   "execution_count": 1,
   "id": "98ad6506",
   "metadata": {},
   "outputs": [],
   "source": [
    "import pandas as pd\n",
    "import numpy as np\n",
    "import os"
   ]
  },
  {
   "cell_type": "code",
   "execution_count": 2,
   "id": "5d62ca8e",
   "metadata": {},
   "outputs": [],
   "source": [
    "list_file = 'experiments_list.txt'\n",
    "with open(list_file, 'r') as f:\n",
    "    dirs = [f'experiments/{line.strip()}' for line in f if line.strip() and not line.strip().startswith('#')]"
   ]
  },
  {
   "cell_type": "code",
   "execution_count": 3,
   "id": "851175b3",
   "metadata": {},
   "outputs": [],
   "source": [
    "# Load logs.csv from each directory into a dictionary of DataFrames\n",
    "dfs = {}\n",
    "for d in dirs:\n",
    "    csv_path = os.path.join(d, 'logs.csv')\n",
    "    if os.path.isfile(csv_path):\n",
    "        dfs[d] = pd.read_csv(csv_path)\n",
    "    else:\n",
    "        print(f'Warning: {csv_path} not found, skipping.')\n",
    "\n",
    "# Optionally, concatenate all DataFrames into a single DataFrame\n",
    "combined_df = pd.concat(\n",
    "    dfs.values(), \n",
    "    keys=dfs.keys(), \n",
    "    names=['experiment', 'row']\n",
    ").reset_index(level='row', drop=True).reset_index().rename(columns={'index': 'experiment'})\n",
    "\n",
    "# Display the combined DataFrame\n",
    "df = combined_df.query('itr>0')[['experiment','iteration_time']].copy().groupby('experiment').mean().reset_index()"
   ]
  },
  {
   "cell_type": "code",
   "execution_count": 4,
   "id": "529a70b3",
   "metadata": {},
   "outputs": [],
   "source": [
    "parts = df.experiment.str.split('/', expand=True)\n",
    "df['Experiment'] = parts[1]\n",
    "df['Method'] = parts[2]\n",
    "df['Loss'] = parts[3]"
   ]
  },
  {
   "cell_type": "code",
   "execution_count": null,
   "id": "0cb7ba49",
   "metadata": {},
   "outputs": [
    {
     "name": "stderr",
     "output_type": "stream",
     "text": [
      "/home/lclaeys/tmp/ipykernel_3202678/4078013571.py:1: FutureWarning: A value is trying to be set on a copy of a DataFrame or Series through chained assignment using an inplace method.\n",
      "The behavior will change in pandas 3.0. This inplace method will never work because the intermediate object on which we are setting values always behaves as a copy.\n",
      "\n",
      "For example, when doing 'df[col].method(value, inplace=True)', try using 'df.method({col: value}, inplace=True)' or df[col] = df[col].method(value) instead, to perform the operation inplace on the original object.\n",
      "\n",
      "\n",
      "  df['Loss'].replace(\n",
      "/home/lclaeys/tmp/ipykernel_3202678/4078013571.py:12: FutureWarning: A value is trying to be set on a copy of a DataFrame or Series through chained assignment using an inplace method.\n",
      "The behavior will change in pandas 3.0. This inplace method will never work because the intermediate object on which we are setting values always behaves as a copy.\n",
      "\n",
      "For example, when doing 'df[col].method(value, inplace=True)', try using 'df.method({col: value}, inplace=True)' or df[col] = df[col].method(value) instead, to perform the operation inplace on the original object.\n",
      "\n",
      "\n",
      "  df['Experiment'].replace(\n"
     ]
    }
   ],
   "source": [
    "df['Loss'].replace(\n",
    "    {'SOCM_adjoint': 'SOCM (adjoint)',\n",
    "     'log_variance': 'Log variance',\n",
    "     'rel_entropy': 'Relative entropy',\n",
    "     'pinn_GELU': 'PINN',\n",
    "     'rel_GELU': 'Relative loss',\n",
    "     'ritz_GELU': 'Deep ritz loss',\n",
    "     'var_GELU': 'Variational loss'},\n",
    "     inplace=True\n",
    ")\n",
    "\n",
    "df['Experiment'].replace(\n",
    "    {'OU_anisotropic_d20': 'AQ',\n",
    "     'OU_stable_d20': 'IQ',\n",
    "     'OU_hard_d20': 'RQ',\n",
    "     'double_well_d10': 'DW'},\n",
    "     inplace=True\n",
    ")"
   ]
  },
  {
   "cell_type": "code",
   "execution_count": 6,
   "id": "93232a7a",
   "metadata": {},
   "outputs": [],
   "source": [
    "pivot = df.pivot_table(\n",
    "    index=['Method', 'Loss'],\n",
    "    columns='Experiment',\n",
    "    values='iteration_time',\n",
    "    aggfunc='mean'\n",
    ")"
   ]
  },
  {
   "cell_type": "code",
   "execution_count": 7,
   "id": "9ed3caa3",
   "metadata": {},
   "outputs": [
    {
     "data": {
      "application/vnd.microsoft.datawrangler.viewer.v0+json": {
       "columns": [
        {
         "name": "('Method', 'Loss')",
         "rawType": "object",
         "type": "unknown"
        },
        {
         "name": "AQ",
         "rawType": "float64",
         "type": "float"
        },
        {
         "name": "DW",
         "rawType": "float64",
         "type": "float"
        },
        {
         "name": "IQ",
         "rawType": "float64",
         "type": "float"
        },
        {
         "name": "RQ",
         "rawType": "float64",
         "type": "float"
        }
       ],
       "conversionMethod": "pd.DataFrame",
       "ref": "e96ea6ba-4937-468c-afd2-85c05a273892",
       "rows": [
        [
         "('COMBINED', 'Log variance')",
         "0.3311862510465113",
         "0.7446884795691403",
         "0.328335160848047",
         "0.32847128755010857"
        ],
        [
         "('COMBINED', 'Relative entropy')",
         "0.4193201567980464",
         "0.3909572867070032",
         "0.41395073299861523",
         "0.41879773094298994"
        ],
        [
         "('COMBINED', 'SOCM')",
         "0.43147901377480974",
         "0.39806992826235005",
         "0.4322002922906744",
         "0.43227381483634214"
        ],
        [
         "('COMBINED', 'adjoint_matching')",
         "0.2272243365029966",
         "0.31269556550418626",
         "0.569375549219129",
         "0.33150942365278735"
        ],
        [
         "('EIGF', 'pinn_GELU')",
         "0.5872981665787917",
         "1.5178554593666325",
         "0.5832954848364685",
         "0.6618664901852608"
        ],
        [
         "('EIGF', 'rel_GELU')",
         "0.5869720862057988",
         "1.5391085795675858",
         "0.5835928259504602",
         "0.6615699220470019"
        ],
        [
         "('EIGF', 'ritz_GELU')",
         "0.22288666809604818",
         "1.3096276218691218",
         "0.22683197810145578",
         "0.22727455840137342"
        ],
        [
         "('EIGF', 'var_GELU')",
         "0.07279965238069856",
         "1.3120955474146914",
         "0.07240452231990824",
         "0.22815427599843163"
        ],
        [
         "('FBSDE', 'FBSDE')",
         "0.45372856879860946",
         "0.4518680826803024",
         "0.44501282236006146",
         "0.44326852637924746"
        ],
        [
         "('IDO', 'Log variance')",
         "0.23288786706399256",
         "0.19272912814411258",
         "0.20738362757225653",
         "0.21238271748467585"
        ],
        [
         "('IDO', 'Relative entropy')",
         "7.637421965942308",
         "0.37457265865519285",
         "0.3989085771950971",
         "0.4132824843189445"
        ],
        [
         "('IDO', 'SOCM')",
         "1.1520434899025775",
         "0.5077016647348416",
         "0.8072433055237924",
         "0.7987273360969724"
        ],
        [
         "('IDO', 'adjoint_matching')",
         "0.18033684462569977",
         "0.20913904489951674",
         "0.28191783519799773",
         "0.22982805008583876"
        ]
       ],
       "shape": {
        "columns": 4,
        "rows": 13
       }
      },
      "text/html": [
       "<div>\n",
       "<style scoped>\n",
       "    .dataframe tbody tr th:only-of-type {\n",
       "        vertical-align: middle;\n",
       "    }\n",
       "\n",
       "    .dataframe tbody tr th {\n",
       "        vertical-align: top;\n",
       "    }\n",
       "\n",
       "    .dataframe thead th {\n",
       "        text-align: right;\n",
       "    }\n",
       "</style>\n",
       "<table border=\"1\" class=\"dataframe\">\n",
       "  <thead>\n",
       "    <tr style=\"text-align: right;\">\n",
       "      <th></th>\n",
       "      <th>Experiment</th>\n",
       "      <th>AQ</th>\n",
       "      <th>DW</th>\n",
       "      <th>IQ</th>\n",
       "      <th>RQ</th>\n",
       "    </tr>\n",
       "    <tr>\n",
       "      <th>Method</th>\n",
       "      <th>Loss</th>\n",
       "      <th></th>\n",
       "      <th></th>\n",
       "      <th></th>\n",
       "      <th></th>\n",
       "    </tr>\n",
       "  </thead>\n",
       "  <tbody>\n",
       "    <tr>\n",
       "      <th rowspan=\"4\" valign=\"top\">COMBINED</th>\n",
       "      <th>Log variance</th>\n",
       "      <td>0.331186</td>\n",
       "      <td>0.744688</td>\n",
       "      <td>0.328335</td>\n",
       "      <td>0.328471</td>\n",
       "    </tr>\n",
       "    <tr>\n",
       "      <th>Relative entropy</th>\n",
       "      <td>0.419320</td>\n",
       "      <td>0.390957</td>\n",
       "      <td>0.413951</td>\n",
       "      <td>0.418798</td>\n",
       "    </tr>\n",
       "    <tr>\n",
       "      <th>SOCM</th>\n",
       "      <td>0.431479</td>\n",
       "      <td>0.398070</td>\n",
       "      <td>0.432200</td>\n",
       "      <td>0.432274</td>\n",
       "    </tr>\n",
       "    <tr>\n",
       "      <th>adjoint_matching</th>\n",
       "      <td>0.227224</td>\n",
       "      <td>0.312696</td>\n",
       "      <td>0.569376</td>\n",
       "      <td>0.331509</td>\n",
       "    </tr>\n",
       "    <tr>\n",
       "      <th rowspan=\"4\" valign=\"top\">EIGF</th>\n",
       "      <th>pinn_GELU</th>\n",
       "      <td>0.587298</td>\n",
       "      <td>1.517855</td>\n",
       "      <td>0.583295</td>\n",
       "      <td>0.661866</td>\n",
       "    </tr>\n",
       "    <tr>\n",
       "      <th>rel_GELU</th>\n",
       "      <td>0.586972</td>\n",
       "      <td>1.539109</td>\n",
       "      <td>0.583593</td>\n",
       "      <td>0.661570</td>\n",
       "    </tr>\n",
       "    <tr>\n",
       "      <th>ritz_GELU</th>\n",
       "      <td>0.222887</td>\n",
       "      <td>1.309628</td>\n",
       "      <td>0.226832</td>\n",
       "      <td>0.227275</td>\n",
       "    </tr>\n",
       "    <tr>\n",
       "      <th>var_GELU</th>\n",
       "      <td>0.072800</td>\n",
       "      <td>1.312096</td>\n",
       "      <td>0.072405</td>\n",
       "      <td>0.228154</td>\n",
       "    </tr>\n",
       "    <tr>\n",
       "      <th>FBSDE</th>\n",
       "      <th>FBSDE</th>\n",
       "      <td>0.453729</td>\n",
       "      <td>0.451868</td>\n",
       "      <td>0.445013</td>\n",
       "      <td>0.443269</td>\n",
       "    </tr>\n",
       "    <tr>\n",
       "      <th rowspan=\"4\" valign=\"top\">IDO</th>\n",
       "      <th>Log variance</th>\n",
       "      <td>0.232888</td>\n",
       "      <td>0.192729</td>\n",
       "      <td>0.207384</td>\n",
       "      <td>0.212383</td>\n",
       "    </tr>\n",
       "    <tr>\n",
       "      <th>Relative entropy</th>\n",
       "      <td>7.637422</td>\n",
       "      <td>0.374573</td>\n",
       "      <td>0.398909</td>\n",
       "      <td>0.413282</td>\n",
       "    </tr>\n",
       "    <tr>\n",
       "      <th>SOCM</th>\n",
       "      <td>1.152043</td>\n",
       "      <td>0.507702</td>\n",
       "      <td>0.807243</td>\n",
       "      <td>0.798727</td>\n",
       "    </tr>\n",
       "    <tr>\n",
       "      <th>adjoint_matching</th>\n",
       "      <td>0.180337</td>\n",
       "      <td>0.209139</td>\n",
       "      <td>0.281918</td>\n",
       "      <td>0.229828</td>\n",
       "    </tr>\n",
       "  </tbody>\n",
       "</table>\n",
       "</div>"
      ],
      "text/plain": [
       "Experiment                       AQ        DW        IQ        RQ\n",
       "Method   Loss                                                    \n",
       "COMBINED Log variance      0.331186  0.744688  0.328335  0.328471\n",
       "         Relative entropy  0.419320  0.390957  0.413951  0.418798\n",
       "         SOCM              0.431479  0.398070  0.432200  0.432274\n",
       "         adjoint_matching  0.227224  0.312696  0.569376  0.331509\n",
       "EIGF     pinn_GELU         0.587298  1.517855  0.583295  0.661866\n",
       "         rel_GELU          0.586972  1.539109  0.583593  0.661570\n",
       "         ritz_GELU         0.222887  1.309628  0.226832  0.227275\n",
       "         var_GELU          0.072800  1.312096  0.072405  0.228154\n",
       "FBSDE    FBSDE             0.453729  0.451868  0.445013  0.443269\n",
       "IDO      Log variance      0.232888  0.192729  0.207384  0.212383\n",
       "         Relative entropy  7.637422  0.374573  0.398909  0.413282\n",
       "         SOCM              1.152043  0.507702  0.807243  0.798727\n",
       "         adjoint_matching  0.180337  0.209139  0.281918  0.229828"
      ]
     },
     "metadata": {},
     "output_type": "display_data"
    }
   ],
   "source": [
    "display(pivot)"
   ]
  },
  {
   "cell_type": "code",
   "execution_count": 8,
   "id": "992e3ded",
   "metadata": {},
   "outputs": [
    {
     "name": "stdout",
     "output_type": "stream",
     "text": [
      "\\begin{table}\n",
      "\\caption{Iteration times by experiment, method and loss}\n",
      "\\label{tab:iteration_times}\n",
      "\\begin{tabular}{llrrrr}\n",
      "\\toprule\n",
      " & Experiment & AQ & DW & IQ & RQ \\\\\n",
      "Method & Loss &  &  &  &  \\\\\n",
      "\\midrule\n",
      "\\multirow[t]{4}{*}{\\textbf{COMBINED}} & \\textbf{Log variance} & 0.331 & 0.745 & 0.328 & 0.328 \\\\\n",
      "\\textbf{} & \\textbf{Relative entropy} & 0.419 & 0.391 & 0.414 & 0.419 \\\\\n",
      "\\textbf{} & \\textbf{SOCM} & 0.431 & 0.398 & 0.432 & 0.432 \\\\\n",
      "\\textbf{} & \\textbf{adjoint\\_matching} & 0.227 & 0.313 & 0.569 & 0.332 \\\\\n",
      "\\cline{1-6}\n",
      "\\multirow[t]{4}{*}{\\textbf{EIGF}} & \\textbf{pinn\\_GELU} & 0.587 & 1.518 & 0.583 & 0.662 \\\\\n",
      "\\textbf{} & \\textbf{rel\\_GELU} & 0.587 & 1.539 & 0.584 & 0.662 \\\\\n",
      "\\textbf{} & \\textbf{ritz\\_GELU} & 0.223 & 1.310 & 0.227 & 0.227 \\\\\n",
      "\\textbf{} & \\textbf{var\\_GELU} & 0.073 & 1.312 & 0.072 & 0.228 \\\\\n",
      "\\cline{1-6}\n",
      "\\textbf{FBSDE} & \\textbf{FBSDE} & 0.454 & 0.452 & 0.445 & 0.443 \\\\\n",
      "\\cline{1-6}\n",
      "\\multirow[t]{4}{*}{\\textbf{IDO}} & \\textbf{Log variance} & 0.233 & 0.193 & 0.207 & 0.212 \\\\\n",
      "\\textbf{} & \\textbf{Relative entropy} & 7.637 & 0.375 & 0.399 & 0.413 \\\\\n",
      "\\textbf{} & \\textbf{SOCM} & 1.152 & 0.508 & 0.807 & 0.799 \\\\\n",
      "\\textbf{} & \\textbf{adjoint\\_matching} & 0.180 & 0.209 & 0.282 & 0.230 \\\\\n",
      "\\cline{1-6}\n",
      "\\bottomrule\n",
      "\\end{tabular}\n",
      "\\end{table}\n",
      "\n"
     ]
    }
   ],
   "source": [
    "latex_str = pivot.to_latex(\n",
    "    caption='Iteration times by experiment, method and loss',\n",
    "    label='tab:iteration_times',\n",
    "    escape=True,            # <-- ensure special chars (_ & %) get backslash-escaped\n",
    "    multicolumn=True,\n",
    "    multicolumn_format='c',\n",
    "    float_format=\"%.3f\",\n",
    "    bold_rows=True\n",
    ")\n",
    "print(latex_str)"
   ]
  },
  {
   "cell_type": "code",
   "execution_count": null,
   "id": "2c3b226f",
   "metadata": {},
   "outputs": [],
   "source": []
  }
 ],
 "metadata": {
  "kernelspec": {
   "display_name": "efs-env",
   "language": "python",
   "name": "python3"
  },
  "language_info": {
   "codemirror_mode": {
    "name": "ipython",
    "version": 3
   },
   "file_extension": ".py",
   "mimetype": "text/x-python",
   "name": "python",
   "nbconvert_exporter": "python",
   "pygments_lexer": "ipython3",
   "version": "3.13.1"
  }
 },
 "nbformat": 4,
 "nbformat_minor": 5
}
