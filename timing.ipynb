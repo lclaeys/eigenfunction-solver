{
 "cells": [
  {
   "cell_type": "code",
   "execution_count": 1,
   "id": "98ad6506",
   "metadata": {},
   "outputs": [],
   "source": [
    "import pandas as pd\n",
    "import numpy as np\n",
    "import os"
   ]
  },
  {
   "cell_type": "code",
   "execution_count": 2,
   "id": "5d62ca8e",
   "metadata": {},
   "outputs": [],
   "source": [
    "list_file = 'experiments_list.txt'\n",
    "with open(list_file, 'r') as f:\n",
    "    dirs = [f'experiments/{line.strip()}' for line in f if line.strip() and not line.strip().startswith('#')]"
   ]
  },
  {
   "cell_type": "code",
   "execution_count": 3,
   "id": "851175b3",
   "metadata": {},
   "outputs": [],
   "source": [
    "# Load logs.csv from each directory into a dictionary of DataFrames\n",
    "dfs = {}\n",
    "for d in dirs:\n",
    "    csv_path = os.path.join(d, 'logs.csv')\n",
    "    if os.path.isfile(csv_path):\n",
    "        dfs[d] = pd.read_csv(csv_path)\n",
    "    else:\n",
    "        print(f'Warning: {csv_path} not found, skipping.')\n",
    "\n",
    "# Optionally, concatenate all DataFrames into a single DataFrame\n",
    "combined_df = pd.concat(\n",
    "    dfs.values(), \n",
    "    keys=dfs.keys(), \n",
    "    names=['experiment', 'row']\n",
    ").reset_index(level='row', drop=True).reset_index().rename(columns={'index': 'experiment'})\n",
    "\n",
    "# Display the combined DataFrame\n",
    "df = combined_df.query('itr>0')[['experiment','iteration_time']].copy().groupby('experiment').mean().reset_index()"
   ]
  },
  {
   "cell_type": "code",
   "execution_count": 4,
   "id": "529a70b3",
   "metadata": {},
   "outputs": [],
   "source": [
    "parts = df.experiment.str.split('/', expand=True)\n",
    "df['Experiment'] = parts[1]\n",
    "df['Method'] = parts[2]\n",
    "df['Loss'] = parts[3]"
   ]
  },
  {
   "cell_type": "code",
   "execution_count": 5,
   "id": "0cb7ba49",
   "metadata": {},
   "outputs": [
    {
     "name": "stderr",
     "output_type": "stream",
     "text": [
      "/tmp/ipykernel_897776/3065527133.py:1: FutureWarning: A value is trying to be set on a copy of a DataFrame or Series through chained assignment using an inplace method.\n",
      "The behavior will change in pandas 3.0. This inplace method will never work because the intermediate object on which we are setting values always behaves as a copy.\n",
      "\n",
      "For example, when doing 'df[col].method(value, inplace=True)', try using 'df.method({col: value}, inplace=True)' or df[col] = df[col].method(value) instead, to perform the operation inplace on the original object.\n",
      "\n",
      "\n",
      "  df['Loss'].replace(\n",
      "/tmp/ipykernel_897776/3065527133.py:12: FutureWarning: A value is trying to be set on a copy of a DataFrame or Series through chained assignment using an inplace method.\n",
      "The behavior will change in pandas 3.0. This inplace method will never work because the intermediate object on which we are setting values always behaves as a copy.\n",
      "\n",
      "For example, when doing 'df[col].method(value, inplace=True)', try using 'df.method({col: value}, inplace=True)' or df[col] = df[col].method(value) instead, to perform the operation inplace on the original object.\n",
      "\n",
      "\n",
      "  df['Experiment'].replace(\n"
     ]
    }
   ],
   "source": [
    "df['Loss'].replace(\n",
    "    {'SOCM_adjoint': 'SOCM (adjoint)',\n",
    "     'log_variance': 'Log variance',\n",
    "     'rel_entropy': 'Relative entropy',\n",
    "     'pinn_GAUSS': 'PINN',\n",
    "     'rel_GAUSS': 'Relative loss',\n",
    "     'ritz_GAUSS': 'Deep ritz loss',\n",
    "     'var_GAUSS': 'Variational loss'},\n",
    "     inplace=True\n",
    ")\n",
    "\n",
    "df['Experiment'].replace(\n",
    "    {'OU_anisotropic_d20': 'Stable OU (ANISO)',\n",
    "     'OU_stable_d20': 'Stable OU (ISO)',\n",
    "     'OU_hard_d20': 'Unstable OU',\n",
    "     'double_well_d10': 'Double Well'},\n",
    "     inplace=True\n",
    ")"
   ]
  },
  {
   "cell_type": "code",
   "execution_count": 7,
   "id": "93232a7a",
   "metadata": {},
   "outputs": [],
   "source": [
    "pivot = df.pivot_table(\n",
    "    index=['Method', 'Loss'],\n",
    "    columns='Experiment',\n",
    "    values='iteration_time',\n",
    "    aggfunc='mean'\n",
    ")"
   ]
  },
  {
   "cell_type": "code",
   "execution_count": 10,
   "id": "9ed3caa3",
   "metadata": {},
   "outputs": [
    {
     "data": {
      "application/vnd.microsoft.datawrangler.viewer.v0+json": {
       "columns": [
        {
         "name": "('Method', 'Loss')",
         "rawType": "object",
         "type": "unknown"
        },
        {
         "name": "Double Well",
         "rawType": "float64",
         "type": "float"
        },
        {
         "name": "Stable OU (ANISO)",
         "rawType": "float64",
         "type": "float"
        },
        {
         "name": "Stable OU (ISO)",
         "rawType": "float64",
         "type": "float"
        },
        {
         "name": "Unstable OU",
         "rawType": "float64",
         "type": "float"
        }
       ],
       "conversionMethod": "pd.DataFrame",
       "ref": "746d7fbd-3972-43ab-a88e-1cc0663f30df",
       "rows": [
        [
         "('COMBINED', 'Log variance')",
         "0.7446884795691403",
         "0.5689058912620975",
         "0.45853721286835747",
         "0.8059385047090217"
        ],
        [
         "('COMBINED', 'Relative entropy')",
         "0.8157733174030136",
         "0.6135098327205835",
         "5.626218699504795",
         "0.9200856218737864"
        ],
        [
         "('COMBINED', 'SOCM')",
         "1.1102529917076909",
         "0.7387912797569781",
         "0.6039722212384431",
         "1.1966297248646318"
        ],
        [
         "('COMBINED', 'SOCM (adjoint)')",
         "0.7392446241987513",
         "0.569856929438881",
         "0.46626756696140065",
         "0.8084420404625178"
        ],
        [
         "('EIGF', 'Deep ritz loss')",
         "1.2851134000373572",
         "0.36340577668033636",
         "0.19430909220138584",
         "0.19478446793048934"
        ],
        [
         "('EIGF', 'PINN')",
         "1.6718215509171181",
         "0.5856611194449461",
         "0.40324546108867293",
         "0.4056765358349558"
        ],
        [
         "('EIGF', 'Relative loss')",
         "1.672093241462421",
         "0.7864097544308449",
         "0.4038758118947347",
         "0.404723083728246"
        ],
        [
         "('EIGF', 'Variational loss')",
         "1.2763550406731712",
         "0.363304659604131",
         "0.19815302808183174",
         "0.19818786932619398"
        ],
        [
         "('IDO', 'Log variance')",
         "0.21190330049421666",
         "0.23288786706399256",
         "0.20738362757225653",
         "2.638714861944411"
        ],
        [
         "('IDO', 'Relative entropy')",
         "0.45464206463404383",
         "7.750472619139849",
         "0.3989085771950971",
         "7.000916024125711"
        ],
        [
         "('IDO', 'SOCM')",
         "1.3653128200052531",
         "1.1520434899025775",
         "0.8072433055237924",
         "4.789851765883283"
        ],
        [
         "('IDO', 'SOCM (adjoint)')",
         "0.23286953389868414",
         "0.24813809816768675",
         "0.22376088588198967",
         "2.613046472961822"
        ]
       ],
       "shape": {
        "columns": 4,
        "rows": 12
       }
      },
      "text/html": [
       "<div>\n",
       "<style scoped>\n",
       "    .dataframe tbody tr th:only-of-type {\n",
       "        vertical-align: middle;\n",
       "    }\n",
       "\n",
       "    .dataframe tbody tr th {\n",
       "        vertical-align: top;\n",
       "    }\n",
       "\n",
       "    .dataframe thead th {\n",
       "        text-align: right;\n",
       "    }\n",
       "</style>\n",
       "<table border=\"1\" class=\"dataframe\">\n",
       "  <thead>\n",
       "    <tr style=\"text-align: right;\">\n",
       "      <th></th>\n",
       "      <th>Experiment</th>\n",
       "      <th>Double Well</th>\n",
       "      <th>Stable OU (ANISO)</th>\n",
       "      <th>Stable OU (ISO)</th>\n",
       "      <th>Unstable OU</th>\n",
       "    </tr>\n",
       "    <tr>\n",
       "      <th>Method</th>\n",
       "      <th>Loss</th>\n",
       "      <th></th>\n",
       "      <th></th>\n",
       "      <th></th>\n",
       "      <th></th>\n",
       "    </tr>\n",
       "  </thead>\n",
       "  <tbody>\n",
       "    <tr>\n",
       "      <th rowspan=\"4\" valign=\"top\">COMBINED</th>\n",
       "      <th>Log variance</th>\n",
       "      <td>0.744688</td>\n",
       "      <td>0.568906</td>\n",
       "      <td>0.458537</td>\n",
       "      <td>0.805939</td>\n",
       "    </tr>\n",
       "    <tr>\n",
       "      <th>Relative entropy</th>\n",
       "      <td>0.815773</td>\n",
       "      <td>0.613510</td>\n",
       "      <td>5.626219</td>\n",
       "      <td>0.920086</td>\n",
       "    </tr>\n",
       "    <tr>\n",
       "      <th>SOCM</th>\n",
       "      <td>1.110253</td>\n",
       "      <td>0.738791</td>\n",
       "      <td>0.603972</td>\n",
       "      <td>1.196630</td>\n",
       "    </tr>\n",
       "    <tr>\n",
       "      <th>SOCM (adjoint)</th>\n",
       "      <td>0.739245</td>\n",
       "      <td>0.569857</td>\n",
       "      <td>0.466268</td>\n",
       "      <td>0.808442</td>\n",
       "    </tr>\n",
       "    <tr>\n",
       "      <th rowspan=\"4\" valign=\"top\">EIGF</th>\n",
       "      <th>Deep ritz loss</th>\n",
       "      <td>1.285113</td>\n",
       "      <td>0.363406</td>\n",
       "      <td>0.194309</td>\n",
       "      <td>0.194784</td>\n",
       "    </tr>\n",
       "    <tr>\n",
       "      <th>PINN</th>\n",
       "      <td>1.671822</td>\n",
       "      <td>0.585661</td>\n",
       "      <td>0.403245</td>\n",
       "      <td>0.405677</td>\n",
       "    </tr>\n",
       "    <tr>\n",
       "      <th>Relative loss</th>\n",
       "      <td>1.672093</td>\n",
       "      <td>0.786410</td>\n",
       "      <td>0.403876</td>\n",
       "      <td>0.404723</td>\n",
       "    </tr>\n",
       "    <tr>\n",
       "      <th>Variational loss</th>\n",
       "      <td>1.276355</td>\n",
       "      <td>0.363305</td>\n",
       "      <td>0.198153</td>\n",
       "      <td>0.198188</td>\n",
       "    </tr>\n",
       "    <tr>\n",
       "      <th rowspan=\"4\" valign=\"top\">IDO</th>\n",
       "      <th>Log variance</th>\n",
       "      <td>0.211903</td>\n",
       "      <td>0.232888</td>\n",
       "      <td>0.207384</td>\n",
       "      <td>2.638715</td>\n",
       "    </tr>\n",
       "    <tr>\n",
       "      <th>Relative entropy</th>\n",
       "      <td>0.454642</td>\n",
       "      <td>7.750473</td>\n",
       "      <td>0.398909</td>\n",
       "      <td>7.000916</td>\n",
       "    </tr>\n",
       "    <tr>\n",
       "      <th>SOCM</th>\n",
       "      <td>1.365313</td>\n",
       "      <td>1.152043</td>\n",
       "      <td>0.807243</td>\n",
       "      <td>4.789852</td>\n",
       "    </tr>\n",
       "    <tr>\n",
       "      <th>SOCM (adjoint)</th>\n",
       "      <td>0.232870</td>\n",
       "      <td>0.248138</td>\n",
       "      <td>0.223761</td>\n",
       "      <td>2.613046</td>\n",
       "    </tr>\n",
       "  </tbody>\n",
       "</table>\n",
       "</div>"
      ],
      "text/plain": [
       "Experiment                 Double Well  Stable OU (ANISO)  Stable OU (ISO)  \\\n",
       "Method   Loss                                                                \n",
       "COMBINED Log variance         0.744688           0.568906         0.458537   \n",
       "         Relative entropy     0.815773           0.613510         5.626219   \n",
       "         SOCM                 1.110253           0.738791         0.603972   \n",
       "         SOCM (adjoint)       0.739245           0.569857         0.466268   \n",
       "EIGF     Deep ritz loss       1.285113           0.363406         0.194309   \n",
       "         PINN                 1.671822           0.585661         0.403245   \n",
       "         Relative loss        1.672093           0.786410         0.403876   \n",
       "         Variational loss     1.276355           0.363305         0.198153   \n",
       "IDO      Log variance         0.211903           0.232888         0.207384   \n",
       "         Relative entropy     0.454642           7.750473         0.398909   \n",
       "         SOCM                 1.365313           1.152043         0.807243   \n",
       "         SOCM (adjoint)       0.232870           0.248138         0.223761   \n",
       "\n",
       "Experiment                 Unstable OU  \n",
       "Method   Loss                           \n",
       "COMBINED Log variance         0.805939  \n",
       "         Relative entropy     0.920086  \n",
       "         SOCM                 1.196630  \n",
       "         SOCM (adjoint)       0.808442  \n",
       "EIGF     Deep ritz loss       0.194784  \n",
       "         PINN                 0.405677  \n",
       "         Relative loss        0.404723  \n",
       "         Variational loss     0.198188  \n",
       "IDO      Log variance         2.638715  \n",
       "         Relative entropy     7.000916  \n",
       "         SOCM                 4.789852  \n",
       "         SOCM (adjoint)       2.613046  "
      ]
     },
     "metadata": {},
     "output_type": "display_data"
    }
   ],
   "source": [
    "display(pivot)"
   ]
  },
  {
   "cell_type": "code",
   "execution_count": 11,
   "id": "992e3ded",
   "metadata": {},
   "outputs": [
    {
     "name": "stdout",
     "output_type": "stream",
     "text": [
      "\\begin{table}\n",
      "\\caption{Iteration times by experiment, method and loss}\n",
      "\\label{tab:iteration_times}\n",
      "\\begin{tabular}{llrrrr}\n",
      "\\toprule\n",
      " & Experiment & Double Well & Stable OU (ANISO) & Stable OU (ISO) & Unstable OU \\\\\n",
      "Method & Loss &  &  &  &  \\\\\n",
      "\\midrule\n",
      "\\multirow[t]{4}{*}{\\textbf{COMBINED}} & \\textbf{Log variance} & 0.745 & 0.569 & 0.459 & 0.806 \\\\\n",
      "\\textbf{} & \\textbf{Relative entropy} & 0.816 & 0.614 & 5.626 & 0.920 \\\\\n",
      "\\textbf{} & \\textbf{SOCM} & 1.110 & 0.739 & 0.604 & 1.197 \\\\\n",
      "\\textbf{} & \\textbf{SOCM (adjoint)} & 0.739 & 0.570 & 0.466 & 0.808 \\\\\n",
      "\\cline{1-6}\n",
      "\\multirow[t]{4}{*}{\\textbf{EIGF}} & \\textbf{Deep ritz loss} & 1.285 & 0.363 & 0.194 & 0.195 \\\\\n",
      "\\textbf{} & \\textbf{PINN} & 1.672 & 0.586 & 0.403 & 0.406 \\\\\n",
      "\\textbf{} & \\textbf{Relative loss} & 1.672 & 0.786 & 0.404 & 0.405 \\\\\n",
      "\\textbf{} & \\textbf{Variational loss} & 1.276 & 0.363 & 0.198 & 0.198 \\\\\n",
      "\\cline{1-6}\n",
      "\\multirow[t]{4}{*}{\\textbf{IDO}} & \\textbf{Log variance} & 0.212 & 0.233 & 0.207 & 2.639 \\\\\n",
      "\\textbf{} & \\textbf{Relative entropy} & 0.455 & 7.750 & 0.399 & 7.001 \\\\\n",
      "\\textbf{} & \\textbf{SOCM} & 1.365 & 1.152 & 0.807 & 4.790 \\\\\n",
      "\\textbf{} & \\textbf{SOCM (adjoint)} & 0.233 & 0.248 & 0.224 & 2.613 \\\\\n",
      "\\cline{1-6}\n",
      "\\bottomrule\n",
      "\\end{tabular}\n",
      "\\end{table}\n",
      "\n"
     ]
    }
   ],
   "source": [
    "latex_str = pivot.to_latex(\n",
    "    caption='Iteration times by experiment, method and loss',\n",
    "    label='tab:iteration_times',\n",
    "    escape=True,            # <-- ensure special chars (_ & %) get backslash-escaped\n",
    "    multicolumn=True,\n",
    "    multicolumn_format='c',\n",
    "    float_format=\"%.3f\",\n",
    "    bold_rows=True\n",
    ")\n",
    "print(latex_str)"
   ]
  },
  {
   "cell_type": "code",
   "execution_count": null,
   "id": "2c3b226f",
   "metadata": {},
   "outputs": [],
   "source": []
  }
 ],
 "metadata": {
  "kernelspec": {
   "display_name": "efs-env",
   "language": "python",
   "name": "python3"
  },
  "language_info": {
   "codemirror_mode": {
    "name": "ipython",
    "version": 3
   },
   "file_extension": ".py",
   "mimetype": "text/x-python",
   "name": "python",
   "nbconvert_exporter": "python",
   "pygments_lexer": "ipython3",
   "version": "3.13.1"
  }
 },
 "nbformat": 4,
 "nbformat_minor": 5
}
