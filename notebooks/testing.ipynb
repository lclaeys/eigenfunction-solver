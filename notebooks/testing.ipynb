{
 "cells": [
  {
   "cell_type": "code",
   "execution_count": 1,
   "metadata": {},
   "outputs": [],
   "source": [
    "import sys\n",
    "import os\n",
    "\n",
    "project_root = os.path.abspath(\"..\")  # If notebooks is one folder above src\n",
    "if project_root not in sys.path:\n",
    "    sys.path.insert(0, project_root)"
   ]
  },
  {
   "cell_type": "code",
   "execution_count": 2,
   "metadata": {},
   "outputs": [],
   "source": [
    "import torch\n",
    "from matplotlib import pyplot as plt\n",
    "from src.eigensolver.kernel.kernel_eigensolver import KernelSolver\n",
    "from src.energy.quadratic import QuadraticEnergy"
   ]
  },
  {
   "cell_type": "code",
   "execution_count": 193,
   "metadata": {},
   "outputs": [],
   "source": [
    "dim = 20\n",
    "sigma = 1.0\n",
    "\n",
    "kernel_params = {\n",
    "    'dim': dim,\n",
    "    'scale': 1.5\n",
    "}\n",
    "\n",
    "solver_params = {\n",
    "    'kernel_name': 'gaussian_kernel',\n",
    "    'kernel_params': kernel_params,\n",
    "    'regularizer': 0\n",
    "}\n",
    "\n",
    "fit_params = {\n",
    "    'p': 1000,\n",
    "    #'xp': torch.linspace(0,5,15).unsqueeze(1)\n",
    "}"
   ]
  },
  {
   "cell_type": "code",
   "execution_count": 194,
   "metadata": {},
   "outputs": [],
   "source": [
    "torch.manual_seed(42)\n",
    "energy = QuadraticEnergy(torch.eye(dim))\n",
    "solver = KernelSolver(energy, sigma, solver_params)\n",
    "x = energy.exact_sample((10000,))"
   ]
  },
  {
   "cell_type": "code",
   "execution_count": 195,
   "metadata": {},
   "outputs": [
    {
     "name": "stdout",
     "output_type": "stream",
     "text": [
      "Orthogonality error: 0.00048340551438741386\n",
      "L error: 0.00446283770725131\n"
     ]
    }
   ],
   "source": [
    "solver.fit(x,fit_params)"
   ]
  },
  {
   "cell_type": "code",
   "execution_count": 196,
   "metadata": {},
   "outputs": [
    {
     "data": {
      "text/plain": [
       "tensor([2.1436e-04, 1.0351e+00, 2.0746e+00, 3.7695e+00, 4.3863e+00])"
      ]
     },
     "execution_count": 196,
     "metadata": {},
     "output_type": "execute_result"
    }
   ],
   "source": [
    "solver.eigvals"
   ]
  },
  {
   "cell_type": "code",
   "execution_count": 39,
   "metadata": {},
   "outputs": [
    {
     "data": {
      "text/plain": [
       "torch.Size([10000, 100])"
      ]
     },
     "execution_count": 39,
     "metadata": {},
     "output_type": "execute_result"
    }
   ],
   "source": [
    "solver.kernel.forward(x,solver.xp).shape"
   ]
  },
  {
   "cell_type": "code",
   "execution_count": 32,
   "metadata": {},
   "outputs": [],
   "source": [
    "for i in range(1,x.shape[1]):\n",
    "    x[:,i] = 0"
   ]
  },
  {
   "cell_type": "code",
   "execution_count": 34,
   "metadata": {},
   "outputs": [
    {
     "data": {
      "text/plain": [
       "<matplotlib.collections.PathCollection at 0x7dae20c1bc50>"
      ]
     },
     "execution_count": 34,
     "metadata": {},
     "output_type": "execute_result"
    },
    {
     "data": {
      "image/png": "[encoded data removed]",
      "text/plain": [
       "<Figure size 640x480 with 1 Axes>"
      ]
     },
     "metadata": {},
     "output_type": "display_data"
    }
   ],
   "source": [
    "plt.scatter(x[:,0],solver.predict(x)[:,0])"
   ]
  },
  {
   "cell_type": "code",
   "execution_count": 51,
   "metadata": {},
   "outputs": [],
   "source": [
    "xp = solver.xp"
   ]
  },
  {
   "cell_type": "code",
   "execution_count": 52,
   "metadata": {},
   "outputs": [],
   "source": [
    "L = solver.compute_L(x,xp)\n",
    "phi = solver.compute_phi(x,xp)"
   ]
  },
  {
   "cell_type": "code",
   "execution_count": 57,
   "metadata": {},
   "outputs": [
    {
     "data": {
      "text/plain": [
       "tensor([ 4.1034e+04+0.0000j,  1.0945e+04+0.0000j,  2.8012e+03+0.0000j,\n",
       "         6.5249e+02+0.0000j,  1.2814e+02+0.0000j,  2.1291e+01+0.0000j,\n",
       "         2.9330e+00+0.0000j,  3.3571e-01+0.0000j,  3.2753e-02+0.0000j,\n",
       "         2.7170e-03+0.0000j, -1.0703e-03+0.0000j,  6.5907e-04+0.0003j,\n",
       "         6.5907e-04-0.0003j, -3.0745e-04+0.0000j, -2.7343e-04+0.0000j,\n",
       "         3.7639e-04+0.0000j,  1.8769e-04+0.0002j,  1.8769e-04-0.0002j,\n",
       "         7.5056e-08+0.0000j,  8.1331e-05+0.0000j])"
      ]
     },
     "execution_count": 57,
     "metadata": {},
     "output_type": "execute_result"
    }
   ],
   "source": [
    "torch.linalg.eigvals(phi+1e-2*torch.eye(dim))"
   ]
  },
  {
   "cell_type": "code",
   "execution_count": 15,
   "metadata": {},
   "outputs": [],
   "source": [
    "eigvecs, eigvals = solver.eigvecs, solver.eigvals"
   ]
  },
  {
   "cell_type": "code",
   "execution_count": 16,
   "metadata": {},
   "outputs": [],
   "source": [
    "grad_k = solver.kernel.grad(xp,x)\n",
    "\n",
    "# (n, p, p)\n",
    "first_term = torch.sum(torch.bmm(grad_k, grad_k.transpose(1,2)),dim=0)\n",
    "\n",
    "# (n, d)\n",
    "energy_grad = solver.energy.grad(x)"
   ]
  },
  {
   "cell_type": "code",
   "execution_count": 24,
   "metadata": {},
   "outputs": [],
   "source": [
    "energy_dotprod = torch.bmm(grad_k, energy_grad.unsqueeze(2)).squeeze(2)\n",
    "k = solver.kernel.forward(x,xp)\n",
    "second_term = torch.sum(k[:,:,None]*energy_dotprod[:,None,:],dim=0)"
   ]
  },
  {
   "cell_type": "code",
   "execution_count": 103,
   "metadata": {},
   "outputs": [
    {
     "data": {
      "text/plain": [
       "tensor([[   0.0000,   48.8591,   -5.7921,   -9.8925,   -8.2278,  -92.4008,\n",
       "          -90.1526,   -2.5718,   97.4750,  -23.1839],\n",
       "        [ -48.8591,    0.0000,  -26.1360,  -27.5527,  -30.9402, -118.8803,\n",
       "         -127.2057,  -22.7998,   68.0501,  -61.4549],\n",
       "        [   5.7921,   26.1360,    0.0000,   -2.0998,   -7.1935,  -81.4585,\n",
       "          -58.0583,    7.4866,   37.9326,  -11.3150],\n",
       "        [   9.8925,   27.5527,    2.0998,    0.0000,   -1.6142,  -65.7707,\n",
       "          -51.4215,    7.9088,   47.6292,  -11.2236],\n",
       "        [   8.2278,   30.9402,    7.1935,    1.6142,    0.0000,  -82.3248,\n",
       "          -59.4670,   14.3598,   42.1668,  -10.2444],\n",
       "        [  92.4008,  118.8803,   81.4585,   65.7707,   82.3248,    0.0000,\n",
       "           10.3239,   84.8817,  128.9948,   57.2728],\n",
       "        [  90.1526,  127.2057,   58.0583,   51.4215,   59.4670,  -10.3239,\n",
       "            0.0000,   60.5820,  157.5241,   58.4717],\n",
       "        [   2.5718,   22.7998,   -7.4866,   -7.9088,  -14.3598,  -84.8817,\n",
       "          -60.5820,    0.0000,   35.1223,  -13.9620],\n",
       "        [ -97.4750,  -68.0501,  -37.9326,  -47.6292,  -42.1668, -128.9948,\n",
       "         -157.5241,  -35.1223,    0.0000, -126.3623],\n",
       "        [  23.1839,   61.4549,   11.3150,   11.2236,   10.2444,  -57.2728,\n",
       "          -58.4717,   13.9620,  126.3623,    0.0000]])"
      ]
     },
     "execution_count": 103,
     "metadata": {},
     "output_type": "execute_result"
    }
   ],
   "source": [
    "second_term.T - second_term"
   ]
  },
  {
   "cell_type": "code",
   "execution_count": 62,
   "metadata": {},
   "outputs": [],
   "source": [
    "L = first_term*solver.sigma + second_term"
   ]
  },
  {
   "cell_type": "code",
   "execution_count": 72,
   "metadata": {},
   "outputs": [],
   "source": [
    "L = L + L.T"
   ]
  },
  {
   "cell_type": "code",
   "execution_count": 24,
   "metadata": {},
   "outputs": [],
   "source": [
    "eigenvals, eigenvecs = torch.linalg.eigh(L)"
   ]
  },
  {
   "cell_type": "code",
   "execution_count": 25,
   "metadata": {},
   "outputs": [
    {
     "data": {
      "text/plain": [
       "tensor([[ 4.4577e-01,  3.9845e-02, -1.3722e-01,  5.1583e+00, -5.2840e+00,\n",
       "          8.6350e-02, -2.1631e-01,  1.1812e+00, -9.6693e-01, -4.0157e-01],\n",
       "        [-4.8838e-01, -2.5503e+00,  3.5316e-02,  7.3451e+00, -7.9788e+00,\n",
       "          8.3810e-02,  1.2871e-01,  4.8333e+00, -4.2275e+00,  2.8598e+00],\n",
       "        [-1.0125e+00, -1.2019e+01, -5.1263e-03, -1.5930e+00,  1.7173e+00,\n",
       "          5.6623e-01,  6.6992e-02, -6.3777e-01,  5.0182e-01,  1.2409e+01],\n",
       "        [-1.0275e+00,  3.6578e-02, -2.9494e-02,  1.1613e+00, -1.0789e+00,\n",
       "         -6.4464e-01,  1.3911e-01, -2.1642e+00,  2.1574e+00,  1.4369e+00],\n",
       "        [-4.5517e-01,  3.3065e-01, -1.6001e-03, -3.3848e+00,  3.3230e+00,\n",
       "         -8.0924e-02,  5.9207e-02,  3.4689e+00, -3.4672e+00,  1.8145e-01],\n",
       "        [ 5.6262e-01,  7.7666e-02,  6.8910e-02, -2.9615e+00,  2.7963e+00,\n",
       "         -3.3992e-01, -2.3813e-01,  6.7568e-01, -5.1180e-01, -1.2899e-01],\n",
       "        [-3.0598e-01,  5.2728e-02,  1.4180e-01, -5.4444e+00,  5.2256e+00,\n",
       "          7.7872e-02,  1.5837e-01, -3.1518e-01,  4.2116e-01, -1.6332e-02],\n",
       "        [-2.6738e-01,  2.7525e-01, -1.4081e-01,  3.4249e+00, -3.3318e+00,\n",
       "         -8.2215e-02,  2.0460e-01,  3.5527e-01, -2.5537e-01, -1.8069e-01],\n",
       "        [ 3.0572e-01,  1.9101e-01, -1.9774e-01,  2.2021e+00, -2.1014e+00,\n",
       "          2.7842e-02, -2.7519e-01,  3.0326e-01, -2.3956e-01, -2.8949e-01],\n",
       "        [-3.3572e-01, -4.6312e-01, -2.0526e-01,  1.2583e+00, -1.1181e+00,\n",
       "          5.6207e-03,  2.9830e-01,  1.1509e-03, -8.5616e-03,  5.6748e-01]])"
      ]
     },
     "execution_count": 25,
     "metadata": {},
     "output_type": "execute_result"
    }
   ],
   "source": [
    "solver.eigvecs"
   ]
  },
  {
   "cell_type": "code",
   "execution_count": 27,
   "metadata": {},
   "outputs": [
    {
     "data": {
      "text/plain": [
       "tensor([ 7.3680e+02, -7.7096e+03, -4.1425e+00,  5.5353e+02, -1.8538e+03,\n",
       "         1.2779e+03,  1.2776e+03, -5.7439e+03,  1.2387e+03, -1.4421e+03])"
      ]
     },
     "execution_count": 27,
     "metadata": {},
     "output_type": "execute_result"
    }
   ],
   "source": [
    "L@eigenvecs[0,:]/eigenvecs[0,:]"
   ]
  },
  {
   "cell_type": "code",
   "execution_count": 75,
   "metadata": {},
   "outputs": [
    {
     "data": {
      "text/plain": [
       "tensor([[ 1.0000e+00, -1.1921e-07, -2.9802e-08,  0.0000e+00, -6.3330e-08],\n",
       "        [-1.1921e-07,  1.0000e+00,  5.9605e-08,  8.9407e-08,  2.5332e-07],\n",
       "        [-2.9802e-08,  5.9605e-08,  1.0000e+00,  0.0000e+00,  3.7253e-08],\n",
       "        [ 0.0000e+00,  8.9407e-08,  0.0000e+00,  1.0000e+00, -1.1921e-07],\n",
       "        [-6.3330e-08,  2.5332e-07,  3.7253e-08, -1.1921e-07,  1.0000e+00]])"
      ]
     },
     "execution_count": 75,
     "metadata": {},
     "output_type": "execute_result"
    }
   ],
   "source": [
    "eigenvecs@eigenvecs.T"
   ]
  },
  {
   "cell_type": "code",
   "execution_count": 119,
   "metadata": {},
   "outputs": [
    {
     "data": {
      "text/plain": [
       "tensor([[ 6.1035e-04, -4.8828e-04,  1.5259e-04,  1.8311e-04,  0.0000e+00,\n",
       "         -2.4414e-04, -2.4414e-04,  1.2207e-04, -3.0518e-04, -1.8311e-04],\n",
       "        [-3.6621e-04, -8.5449e-04, -1.3733e-04, -1.5259e-05, -3.6621e-04,\n",
       "         -4.8828e-04, -2.4414e-04,  1.5259e-04, -3.6621e-04, -5.4932e-04],\n",
       "        [ 1.5259e-04, -1.0681e-04,  0.0000e+00, -3.6621e-04, -3.6621e-04,\n",
       "         -2.4414e-04, -1.2207e-04, -4.8828e-04,  1.8311e-04,  0.0000e+00],\n",
       "        [ 2.1362e-04, -4.5776e-05, -3.0518e-04, -4.8828e-04, -3.0518e-04,\n",
       "         -2.4414e-04, -1.2207e-04, -3.6621e-04,  1.0681e-04, -1.8311e-04],\n",
       "        [ 0.0000e+00, -3.9673e-04, -3.6621e-04, -3.0518e-04, -4.8828e-04,\n",
       "         -3.6621e-04, -3.0518e-04, -3.6621e-04,  0.0000e+00, -2.1362e-04],\n",
       "        [-2.4414e-04, -4.8828e-04, -2.4414e-04, -1.8311e-04, -3.6621e-04,\n",
       "         -3.6621e-04, -3.6621e-04, -1.8311e-04, -1.8311e-04, -3.6621e-04],\n",
       "        [-2.4414e-04, -3.6621e-04, -1.2207e-04, -2.4414e-04, -3.0518e-04,\n",
       "         -3.6621e-04, -2.4414e-04, -1.2207e-04, -2.4414e-04, -3.6621e-04],\n",
       "        [ 1.2207e-04,  1.5259e-04, -4.8828e-04, -3.6621e-04, -3.6621e-04,\n",
       "         -1.8311e-04, -1.2207e-04, -3.6621e-04,  2.1362e-04, -6.1035e-05],\n",
       "        [-1.8311e-04, -3.6621e-04,  1.8311e-04,  1.0681e-04,  0.0000e+00,\n",
       "         -1.8311e-04, -2.4414e-04,  1.5259e-04, -3.6621e-04, -2.4414e-04],\n",
       "        [-2.4414e-04, -6.1035e-04, -9.1553e-05, -1.8311e-04, -2.4414e-04,\n",
       "         -3.6621e-04, -3.6621e-04, -9.1553e-05, -3.0518e-04, -4.8828e-04]])"
      ]
     },
     "execution_count": 119,
     "metadata": {},
     "output_type": "execute_result"
    }
   ],
   "source": [
    "L - eigenvecs@torch.diag(eigenvals)@eigenvecs.T"
   ]
  },
  {
   "cell_type": "code",
   "execution_count": null,
   "metadata": {},
   "outputs": [],
   "source": []
  }
 ],
 "metadata": {
  "kernelspec": {
   "display_name": "efs-env",
   "language": "python",
   "name": "python3"
  },
  "language_info": {
   "codemirror_mode": {
    "name": "ipython",
    "version": 3
   },
   "file_extension": ".py",
   "mimetype": "text/x-python",
   "name": "python",
   "nbconvert_exporter": "python",
   "pygments_lexer": "ipython3",
   "version": "3.13.1"
  }
 },
 "nbformat": 4,
 "nbformat_minor": 2
}
